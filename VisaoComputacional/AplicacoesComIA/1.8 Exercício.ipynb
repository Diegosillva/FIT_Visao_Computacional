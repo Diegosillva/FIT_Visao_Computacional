{
 "cells": [
  {
   "cell_type": "markdown",
   "metadata": {},
   "source": [
    "1) capturar as imagens \n"
   ]
  },
  {
   "cell_type": "code",
   "execution_count": null,
   "metadata": {},
   "outputs": [],
   "source": [
    "import cv2 as cv\n",
    "\n",
    "webcam = cv.VideoCapture(0)\n",
    "contador = 0\n",
    "while True:\n",
    "  cap, img = webcam.read()\n",
    "\n",
    "  cv.imshow('video', img)\n",
    "  tecla = cv.waitKey(1)\n",
    "  if tecla == ord('s'):\n",
    "    contador = contador + 1\n",
    "    caminho = 'classeC/imagem'+ str(contador)+ '.jpg'\n",
    "    salvar = cv.imwrite(caminho,img)\n",
    "  if tecla == ord('q'):\n",
    "    break\n",
    "webcam.release()\n",
    "cv.destroyAllWindows()"
   ]
  },
  {
   "cell_type": "markdown",
   "metadata": {},
   "source": [
    "treinar o modelo de aprendizado de máquina  \n"
   ]
  },
  {
   "cell_type": "code",
   "execution_count": null,
   "metadata": {},
   "outputs": [],
   "source": [
    "import os\n",
    "from sklearn.neighbors import KNeighborsClassifier\n",
    "from sklearn.svm import SVC\n",
    "X = []\n",
    "Y = []\n",
    "diretorios = ['classeA/', 'classeB/','classeC/']\n",
    "for diretorio in diretorios:\n",
    "  nome_imagem = os.listdir(diretorio)\n",
    "  for nome_imagens in nome_imagem:\n",
    "    img = cv.imread(diretorio + nome_imagens)\n",
    "    pixel_achatados = img.flatten()\n",
    "    pixel_achatados = pixel_achatados / 255\n",
    "    X.append(pixel_achatados)\n",
    "    Y.append(diretorios.index(diretorio))\n",
    "print('Caracteristicas: ',X)\n",
    "print('classificacao: ',Y)"
   ]
  },
  {
   "cell_type": "code",
   "execution_count": null,
   "metadata": {},
   "outputs": [],
   "source": [
    "import pickle\n",
    "\n",
    "meu_classificador = SVC()\n",
    "meu_classificador.fit(X,Y)\n",
    "\n",
    "pickle.dump(meu_classificador, open('classificadorDeLeds.svc', 'ab'))"
   ]
  },
  {
   "cell_type": "markdown",
   "metadata": {},
   "source": [
    "3) utilizar o modelo de aprendizado de máquina para classificação.\n"
   ]
  },
  {
   "cell_type": "code",
   "execution_count": null,
   "metadata": {},
   "outputs": [],
   "source": [
    "from sklearn.neighbors import KNeighborsClassifier\n",
    "caracteristicas = ['classificadorDeLeds.knn']\n",
    "classificacoes = [0, 0, 0, 0, 0, 0, 1, 1, 1, 1, 1, 1]\n",
    "knn = KNeighborsClassifier(3)\n",
    "pontos = knn.score(caracteristicas, classificacoes)\n",
    "objetoDesconhecido = [\n",
    "\n",
    "3.17, 11.84, 14.91, 16.22, -33.21, 22.38, 31.78\n",
    "\n",
    "]\n",
    "objetos = [\n",
    "\n",
    "[3.17, 11.84, 14.91, 16.22, -33.21, 22.38, 31.78],\n",
    "\n",
    "[3.17, 11.82, 14.91, 16.21, -33.38, 22.33, 31.77]\n",
    "\n",
    "]\n",
    "classe = knn.predict(objetoDesconhecido)\n",
    "print(knn.predict(objetos))"
   ]
  }
 ],
 "metadata": {
  "kernelspec": {
   "display_name": ".venv",
   "language": "python",
   "name": "python3"
  },
  "language_info": {
   "codemirror_mode": {
    "name": "ipython",
    "version": 3
   },
   "file_extension": ".py",
   "mimetype": "text/x-python",
   "name": "python",
   "nbconvert_exporter": "python",
   "pygments_lexer": "ipython3",
   "version": "3.10.0"
  }
 },
 "nbformat": 4,
 "nbformat_minor": 2
}
